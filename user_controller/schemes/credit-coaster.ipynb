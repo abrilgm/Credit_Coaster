{
 "cells": [
  {
   "cell_type": "code",
   "execution_count": null,
   "metadata": {},
   "outputs": [
    {
     "ename": "",
     "evalue": "",
     "output_type": "error",
     "traceback": [
      "\u001b[1;31mNo se pudo iniciar el Kernel. \n",
      "\u001b[1;31mEl Kernel Python 3.10.2 64-bit no se puede usar. Compruebe la pestaña de salida de Jupyter para obtener más información. \n",
      "\u001b[1;31mVea el [registro] de Jupyter (command:jupyter.viewOutput) para obtener más detalles."
     ]
    }
   ],
   "source": [
    "# Importar las clases necesarias\n",
    "\n",
    "from user import User\n",
    "from card import Card\n",
    "from Account import Account\n",
    "from transactions import Transaction\n",
    "from payments import Payment\n"
   ]
  },
  {
   "cell_type": "code",
   "execution_count": null,
   "metadata": {},
   "outputs": [
    {
     "ename": "",
     "evalue": "",
     "output_type": "error",
     "traceback": [
      "\u001b[1;31mNo se pudo iniciar el Kernel. \n",
      "\u001b[1;31mEl Kernel Python 3.10.2 64-bit no se puede usar. Compruebe la pestaña de salida de Jupyter para obtener más información. \n",
      "\u001b[1;31mVea el [registro] de Jupyter (command:jupyter.viewOutput) para obtener más detalles."
     ]
    }
   ],
   "source": [
    "# Solicitar información del usuario\n",
    "print('Bienvenido a la aplicación de tarjeta de crédito')\n",
    "name = input('Por favor ingrese su nombre: ')\n",
    "email = input('Por favor ingrese su correo electrónico: ')\n",
    "phone = input('Por favor ingrese su número de teléfono: ')"
   ]
  },
  {
   "cell_type": "code",
   "execution_count": null,
   "metadata": {},
   "outputs": [
    {
     "ename": "",
     "evalue": "",
     "output_type": "error",
     "traceback": [
      "\u001b[1;31mNo se pudo iniciar el Kernel. \n",
      "\u001b[1;31mEl Kernel Python 3.10.2 64-bit no se puede usar. Compruebe la pestaña de salida de Jupyter para obtener más información. \n",
      "\u001b[1;31mVea el [registro] de Jupyter (command:jupyter.viewOutput) para obtener más detalles."
     ]
    }
   ],
   "source": [
    "# Crear objeto de la clase User con la información del usuario\n",
    "user = User(name, email, phone)\n",
    "\n",
    "# Solicitar información de la tarjeta\n",
    "print('Por favor ingrese la información de su tarjeta de crédito')\n",
    "number = input('Número de la tarjeta: ')\n",
    "expiration_date = input('Fecha de expiración (MM/YY): ')\n",
    "cvv = input('CVV: ')\n",
    "nip = input('NIP: ')\n"
   ]
  },
  {
   "cell_type": "code",
   "execution_count": null,
   "metadata": {},
   "outputs": [
    {
     "ename": "",
     "evalue": "",
     "output_type": "error",
     "traceback": [
      "\u001b[1;31mNo se pudo iniciar el Kernel. \n",
      "\u001b[1;31mEl Kernel Python 3.10.2 64-bit no se puede usar. Compruebe la pestaña de salida de Jupyter para obtener más información. \n",
      "\u001b[1;31mVea el [registro] de Jupyter (command:jupyter.viewOutput) para obtener más detalles."
     ]
    }
   ],
   "source": [
    "\n",
    "# Crear objeto de la clase Card con la información de la tarjeta\n",
    "card = Card(number, expiration_date, cvv, nip)\n",
    "\n"
   ]
  },
  {
   "cell_type": "code",
   "execution_count": null,
   "metadata": {},
   "outputs": [
    {
     "ename": "",
     "evalue": "",
     "output_type": "error",
     "traceback": [
      "\u001b[1;31mNo se pudo iniciar el Kernel. \n",
      "\u001b[1;31mEl Kernel Python 3.10.2 64-bit no se puede usar. Compruebe la pestaña de salida de Jupyter para obtener más información. \n",
      "\u001b[1;31mVea el [registro] de Jupyter (command:jupyter.viewOutput) para obtener más detalles."
     ]
    }
   ],
   "source": [
    "# Solicitar información de la cuenta\n",
    "print('Por favor ingrese la información de su cuenta')\n",
    "balance = float(input('Saldo actual: '))\n",
    "cut = float(input('Límite de crédito: '))\n",
    "card_type = input('Tipo de tarjeta: ')\n",
    "\n"
   ]
  },
  {
   "cell_type": "code",
   "execution_count": null,
   "metadata": {},
   "outputs": [
    {
     "ename": "",
     "evalue": "",
     "output_type": "error",
     "traceback": [
      "\u001b[1;31mNo se pudo iniciar el Kernel. \n",
      "\u001b[1;31mEl Kernel Python 3.10.2 64-bit no se puede usar. Compruebe la pestaña de salida de Jupyter para obtener más información. \n",
      "\u001b[1;31mVea el [registro] de Jupyter (command:jupyter.viewOutput) para obtener más detalles."
     ]
    }
   ],
   "source": [
    "# Crear objeto de la clase Account con la información de la cuenta\n",
    "account = Account(user, card, balance, cut, card_type)\n",
    "\n",
    "# Solicitar información de la transacción\n",
    "print('Por favor ingrese la información de la transacción')\n",
    "t_type = input('Tipo de transacción: ')\n",
    "description = input('Descripción: ')\n",
    "status = input('Estado: ')\n",
    "source = input('Origen: ')\n",
    "destination = input('Destino: ')\n",
    "location = input('Ubicación: ')\n"
   ]
  },
  {
   "cell_type": "code",
   "execution_count": null,
   "metadata": {},
   "outputs": [
    {
     "ename": "",
     "evalue": "",
     "output_type": "error",
     "traceback": [
      "\u001b[1;31mNo se pudo iniciar el Kernel. \n",
      "\u001b[1;31mEl Kernel Python 3.10.2 64-bit no se puede usar. Compruebe la pestaña de salida de Jupyter para obtener más información. \n",
      "\u001b[1;31mVea el [registro] de Jupyter (command:jupyter.viewOutput) para obtener más detalles."
     ]
    }
   ],
   "source": [
    "\n",
    "# Crear objeto de la clase Transaction con la información de la transacción\n",
    "transaction = Transaction(t_type, description, status, source, destination, location)\n",
    "\n"
   ]
  },
  {
   "cell_type": "code",
   "execution_count": null,
   "metadata": {},
   "outputs": [
    {
     "ename": "",
     "evalue": "",
     "output_type": "error",
     "traceback": [
      "\u001b[1;31mNo se pudo iniciar el Kernel. \n",
      "\u001b[1;31mEl Kernel Python 3.10.2 64-bit no se puede usar. Compruebe la pestaña de salida de Jupyter para obtener más información. \n",
      "\u001b[1;31mVea el [registro] de Jupyter (command:jupyter.viewOutput) para obtener más detalles."
     ]
    }
   ],
   "source": [
    "# Solicitar información del pago\n",
    "print('Por favor ingrese la información del pago')\n",
    "payer = input('Pagador: ')\n",
    "payee = input('Beneficiario: ')\n",
    "amount = float(input('Monto: '))\n",
    "currency = input('Divisa: ')\n",
    "description = input('Descripción: ')\n",
    "status = input('Estado: ')\n",
    "method = input('Método de pago: ')\n",
    "fee = float(input('Comisión: '))\n",
    "reference = input('Referencia: ')\n",
    "\n"
   ]
  },
  {
   "cell_type": "code",
   "execution_count": null,
   "metadata": {},
   "outputs": [
    {
     "ename": "",
     "evalue": "",
     "output_type": "error",
     "traceback": [
      "\u001b[1;31mNo se pudo iniciar el Kernel. \n",
      "\u001b[1;31mEl Kernel Python 3.10.2 64-bit no se puede usar. Compruebe la pestaña de salida de Jupyter para obtener más información. \n",
      "\u001b[1;31mVea el [registro] de Jupyter (command:jupyter.viewOutput) para obtener más detalles."
     ]
    }
   ],
   "source": [
    "# Crear objeto de la clase Payment con la información del pago\n",
    "payment = Payment(payer, payee, amount, currency, description, status, method, fee, reference)\n",
    "\n"
   ]
  },
  {
   "cell_type": "code",
   "execution_count": null,
   "metadata": {},
   "outputs": [
    {
     "ename": "",
     "evalue": "",
     "output_type": "error",
     "traceback": [
      "\u001b[1;31mNo se pudo iniciar el Kernel. \n",
      "\u001b[1;31mEl Kernel Python 3.10.2 64-bit no se puede usar. Compruebe la pestaña de salida de Jupyter para obtener más información. \n",
      "\u001b[1;31mVea el [registro] de Jupyter (command:jupyter.viewOutput) para obtener más detalles."
     ]
    }
   ],
   "source": [
    "# Imprimir información de la cuenta, tarjeta, transacción y pago\n",
    "print('Información de la cuenta:')\n",
    "print(account.get_info())\n",
    "print('Información de la tarjeta:')\n",
    "print(card.get_info())\n",
    "print('Información de la transacción:')\n",
    "print(transaction.get_info())\n",
    "print('Información del pago:')\n",
    "print(payment.get_info())"
   ]
  }
 ],
 "metadata": {
  "kernelspec": {
   "display_name": "Python 3.10.2 64-bit",
   "language": "python",
   "name": "python3"
  },
  "language_info": {
   "codemirror_mode": {
    "name": "ipython",
    "version": 3
   },
   "file_extension": ".py",
   "mimetype": "text/x-python",
   "name": "python",
   "nbconvert_exporter": "python",
   "pygments_lexer": "ipython3",
   "version": "3.10.2"
  },
  "orig_nbformat": 4,
  "vscode": {
   "interpreter": {
    "hash": "aee8b7b246df8f9039afb4144a1f6fd8d2ca17a180786b69acc140d282b71a49"
   }
  }
 },
 "nbformat": 4,
 "nbformat_minor": 2
}
